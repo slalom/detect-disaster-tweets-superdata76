{
 "cells": [
  {
   "cell_type": "code",
   "execution_count": 1,
   "metadata": {},
   "outputs": [
    {
     "name": "stdout",
     "output_type": "stream",
     "text": [
      "Spark NLP version:  2.3.4\n",
      "Apache Spark version:  2.4.4\n"
     ]
    }
   ],
   "source": [
    "import sparknlp \n",
    "\n",
    "spark = sparknlp.start()\n",
    "\n",
    "print(\"Spark NLP version: \", sparknlp.version())\n",
    "print(\"Apache Spark version: \", spark.version)"
   ]
  },
  {
   "cell_type": "code",
   "execution_count": 2,
   "metadata": {},
   "outputs": [
    {
     "name": "stdout",
     "output_type": "stream",
     "text": [
      "analyze_sentiment download started this may take some time.\n",
      "Approx size to download 4.9 MB\n",
      "[OK!]\n"
     ]
    }
   ],
   "source": [
    "from sparknlp.pretrained import PretrainedPipeline \n",
    "pipeline = PretrainedPipeline('analyze_sentiment', 'en')"
   ]
  },
  {
   "cell_type": "code",
   "execution_count": 3,
   "metadata": {},
   "outputs": [],
   "source": [
    "result = pipeline.annotate('Google has announced the release of a beta version of the popular TensorFlow machine learning library.') "
   ]
  },
  {
   "cell_type": "code",
   "execution_count": 4,
   "metadata": {},
   "outputs": [
    {
     "name": "stdout",
     "output_type": "stream",
     "text": [
      "{'checked': ['Google', 'has', 'announced', 'the', 'release', 'of', 'a', 'beta', 'version', 'of', 'the', 'popular', 'TensorFlow', 'machine', 'learning', 'library', '.'], 'document': ['Google has announced the release of a beta version of the popular TensorFlow machine learning library.'], 'sentiment': ['negative'], 'token': ['Google', 'has', 'announced', 'the', 'release', 'of', 'a', 'beta', 'version', 'of', 'the', 'popular', 'TensorFlow', 'machine', 'learning', 'library', '.'], 'sentence': ['Google has announced the release of a beta version of the popular TensorFlow machine learning library.']}\n"
     ]
    }
   ],
   "source": [
    "print(result)"
   ]
  },
  {
   "cell_type": "code",
   "execution_count": 5,
   "metadata": {},
   "outputs": [
    {
     "name": "stdout",
     "output_type": "stream",
     "text": [
      "       tweetid                                               text  \\\n",
      "0        10001  @TheEllenShow Please check into Salt River hor...   \n",
      "1        10002  As for the hurricane, it's already category 1 ...   \n",
      "2        10003  So it looks like my @SoundCloud profile shall ...   \n",
      "3        10004  @SushmaSwaraj Am sure background check of the ...   \n",
      "4        10005  Open forex detonation indicator is irretrievab...   \n",
      "...        ...                                                ...   \n",
      "14015    24016  @tcbinaflash77 honestly I can't understand why...   \n",
      "14016    24017                 BODY BAGS! https://t.co/0McXc68GZD   \n",
      "14017    24018  Hearing the all events are suspended at Aussie...   \n",
      "14018    24019  Move Of The Week Double Leg Stretch ‰Û_ : http...   \n",
      "14019    24020  Careful, I Just Won a Prize At the Fair https:...   \n",
      "\n",
      "      disaster_type  disaster  Unnamed: 4  \n",
      "0               NaN         0         NaN  \n",
      "1         hurricane         1         NaN  \n",
      "2               NaN         0         NaN  \n",
      "3               NaN         0         NaN  \n",
      "4               NaN         0         NaN  \n",
      "...             ...       ...         ...  \n",
      "14015           NaN         0         NaN  \n",
      "14016           NaN         0         NaN  \n",
      "14017     hurricane         1         NaN  \n",
      "14018           NaN         0         NaN  \n",
      "14019           NaN         0         NaN  \n",
      "\n",
      "[14020 rows x 5 columns]\n"
     ]
    }
   ],
   "source": [
    "import pandas\n",
    "print(pandas.read_csv('../data/slalombuilddatacontest/train.csv'))"
   ]
  },
  {
   "cell_type": "code",
   "execution_count": 6,
   "metadata": {},
   "outputs": [],
   "source": [
    "rows = pandas.read_csv('../data/slalombuilddatacontest/train.csv')\n",
    "rows = rows[:20] # trim csv to first 20 rows for fast processing; delete to process all rows"
   ]
  },
  {
   "cell_type": "code",
   "execution_count": 7,
   "metadata": {},
   "outputs": [
    {
     "name": "stdout",
     "output_type": "stream",
     "text": [
      "['negative', 'negative', 'negative', 'negative']\n",
      "['positive', 'negative', 'negative', 'negative']\n",
      "['positive', 'negative', 'negative', 'negative']\n",
      "['negative', 'negative', 'negative', 'negative']\n",
      "['positive', 'negative', 'negative', 'negative']\n",
      "['negative', 'negative', 'negative', 'negative']\n",
      "['negative', 'negative']\n",
      "['negative', 'negative', 'negative', 'negative']\n",
      "['negative', 'negative', 'negative', 'negative']\n",
      "['positive', 'negative', 'negative', 'negative']\n",
      "['positive', 'negative', 'negative', 'negative']\n",
      "['positive', 'negative', 'negative', 'negative']\n",
      "['positive', 'negative']\n",
      "['negative', 'negative', 'negative', 'negative']\n",
      "['negative', 'negative', 'negative', 'negative']\n",
      "['negative', 'positive', 'negative', 'negative', 'negative']\n",
      "['negative', 'positive', 'negative', 'negative', 'negative']\n",
      "['positive', 'negative', 'negative']\n",
      "['positive', 'negative', 'negative', 'negative']\n",
      "['positive', 'positive', 'negative', 'negative', 'negative']\n"
     ]
    }
   ],
   "source": [
    "for index, row in rows.iterrows():\n",
    "    result = pipeline.annotate(str(row))\n",
    "#    print(result)\n",
    "    print(result['sentiment'])"
   ]
  },
  {
   "cell_type": "code",
   "execution_count": null,
   "metadata": {},
   "outputs": [],
   "source": []
  }
 ],
 "metadata": {
  "kernelspec": {
   "display_name": "Python 3",
   "language": "python",
   "name": "python3"
  },
  "language_info": {
   "codemirror_mode": {
    "name": "ipython",
    "version": 3
   },
   "file_extension": ".py",
   "mimetype": "text/x-python",
   "name": "python",
   "nbconvert_exporter": "python",
   "pygments_lexer": "ipython3",
   "version": "3.6.9"
  }
 },
 "nbformat": 4,
 "nbformat_minor": 4
}
